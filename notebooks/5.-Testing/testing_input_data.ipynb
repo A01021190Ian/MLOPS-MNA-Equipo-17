{
 "cells": [
  {
   "cell_type": "code",
   "execution_count": 118,
   "metadata": {},
   "outputs": [],
   "source": [
    "# Importing required libraries\n",
    "import pandas as pd\n",
    "import numpy as np\n",
    "\n",
    "from sklearn.tree import DecisionTreeClassifier\n",
    "from sklearn.model_selection import train_test_split\n",
    "from sklearn.preprocessing import StandardScaler\n",
    "from sklearn.metrics import accuracy_score\n",
    "\n",
    "import pytest\n",
    "import ipytest\n",
    "ipytest.autoconfig()"
   ]
  },
  {
   "cell_type": "code",
   "execution_count": 2,
   "metadata": {},
   "outputs": [],
   "source": [
    "data_df = pd.read_csv(r\"../../data/processed/TCGA_GBM_LGG_Mutations_clean.csv\") #change path when testing\n",
    "X=data_df.drop([\"Grade\",\"Tumor_Type\",\"IDH1\", \"TP53\", \"ATRX\"], axis=1)\n",
    "y=data_df[\"Grade\"]"
   ]
  },
  {
   "cell_type": "code",
   "execution_count": 20,
   "metadata": {},
   "outputs": [
    {
     "data": {
      "text/plain": [
       "Index(['Grade', 'Gender', 'Age_at_diagnosis', 'Race', 'Tumor_Type',\n",
       "       'Tumor_Specification', 'IDH1', 'TP53', 'ATRX', 'PTEN', 'EGFR', 'CIC',\n",
       "       'MUC16', 'PIK3CA', 'NF1', 'PIK3R1', 'FUBP1', 'RB1', 'NOTCH1', 'BCOR',\n",
       "       'CSMD3', 'SMARCA4', 'GRIN2A', 'IDH2', 'FAT4', 'PDGFRA'],\n",
       "      dtype='object')"
      ]
     },
     "execution_count": 20,
     "metadata": {},
     "output_type": "execute_result"
    }
   ],
   "source": [
    "data_df.columns"
   ]
  },
  {
   "cell_type": "code",
   "execution_count": 3,
   "metadata": {},
   "outputs": [
    {
     "data": {
      "text/plain": [
       "Grade\n",
       "0    497\n",
       "1    360\n",
       "Name: count, dtype: int64"
      ]
     },
     "execution_count": 3,
     "metadata": {},
     "output_type": "execute_result"
    }
   ],
   "source": [
    "y.value_counts()"
   ]
  },
  {
   "cell_type": "code",
   "execution_count": 4,
   "metadata": {},
   "outputs": [
    {
     "data": {
      "text/html": [
       "<div>\n",
       "<style scoped>\n",
       "    .dataframe tbody tr th:only-of-type {\n",
       "        vertical-align: middle;\n",
       "    }\n",
       "\n",
       "    .dataframe tbody tr th {\n",
       "        vertical-align: top;\n",
       "    }\n",
       "\n",
       "    .dataframe thead th {\n",
       "        text-align: right;\n",
       "    }\n",
       "</style>\n",
       "<table border=\"1\" class=\"dataframe\">\n",
       "  <thead>\n",
       "    <tr style=\"text-align: right;\">\n",
       "      <th></th>\n",
       "      <th>Grade</th>\n",
       "      <th>Gender</th>\n",
       "      <th>Age_at_diagnosis</th>\n",
       "      <th>Race</th>\n",
       "      <th>Tumor_Type</th>\n",
       "      <th>Tumor_Specification</th>\n",
       "      <th>IDH1</th>\n",
       "      <th>TP53</th>\n",
       "      <th>ATRX</th>\n",
       "      <th>PTEN</th>\n",
       "      <th>...</th>\n",
       "      <th>FUBP1</th>\n",
       "      <th>RB1</th>\n",
       "      <th>NOTCH1</th>\n",
       "      <th>BCOR</th>\n",
       "      <th>CSMD3</th>\n",
       "      <th>SMARCA4</th>\n",
       "      <th>GRIN2A</th>\n",
       "      <th>IDH2</th>\n",
       "      <th>FAT4</th>\n",
       "      <th>PDGFRA</th>\n",
       "    </tr>\n",
       "  </thead>\n",
       "  <tbody>\n",
       "    <tr>\n",
       "      <th>count</th>\n",
       "      <td>857.000000</td>\n",
       "      <td>857.000000</td>\n",
       "      <td>857.000000</td>\n",
       "      <td>857.000000</td>\n",
       "      <td>857.000000</td>\n",
       "      <td>857.000000</td>\n",
       "      <td>857.000000</td>\n",
       "      <td>857.000000</td>\n",
       "      <td>857.000000</td>\n",
       "      <td>857.000000</td>\n",
       "      <td>...</td>\n",
       "      <td>857.000000</td>\n",
       "      <td>857.000000</td>\n",
       "      <td>857.000000</td>\n",
       "      <td>857.000000</td>\n",
       "      <td>857.000000</td>\n",
       "      <td>857.000000</td>\n",
       "      <td>857.000000</td>\n",
       "      <td>857.000000</td>\n",
       "      <td>857.000000</td>\n",
       "      <td>857.000000</td>\n",
       "    </tr>\n",
       "    <tr>\n",
       "      <th>mean</th>\n",
       "      <td>0.420070</td>\n",
       "      <td>0.581097</td>\n",
       "      <td>50.924282</td>\n",
       "      <td>1.084014</td>\n",
       "      <td>1.845974</td>\n",
       "      <td>0.668611</td>\n",
       "      <td>0.480747</td>\n",
       "      <td>0.411902</td>\n",
       "      <td>0.255543</td>\n",
       "      <td>0.166861</td>\n",
       "      <td>...</td>\n",
       "      <td>0.054842</td>\n",
       "      <td>0.047841</td>\n",
       "      <td>0.044341</td>\n",
       "      <td>0.033839</td>\n",
       "      <td>0.032672</td>\n",
       "      <td>0.032672</td>\n",
       "      <td>0.031505</td>\n",
       "      <td>0.026838</td>\n",
       "      <td>0.026838</td>\n",
       "      <td>0.025671</td>\n",
       "    </tr>\n",
       "    <tr>\n",
       "      <th>std</th>\n",
       "      <td>0.493858</td>\n",
       "      <td>0.493668</td>\n",
       "      <td>15.732749</td>\n",
       "      <td>0.398524</td>\n",
       "      <td>1.181867</td>\n",
       "      <td>0.835742</td>\n",
       "      <td>0.499921</td>\n",
       "      <td>0.492465</td>\n",
       "      <td>0.436420</td>\n",
       "      <td>0.373070</td>\n",
       "      <td>...</td>\n",
       "      <td>0.227805</td>\n",
       "      <td>0.213555</td>\n",
       "      <td>0.205971</td>\n",
       "      <td>0.180920</td>\n",
       "      <td>0.177881</td>\n",
       "      <td>0.177881</td>\n",
       "      <td>0.174781</td>\n",
       "      <td>0.161704</td>\n",
       "      <td>0.161704</td>\n",
       "      <td>0.158244</td>\n",
       "    </tr>\n",
       "    <tr>\n",
       "      <th>min</th>\n",
       "      <td>0.000000</td>\n",
       "      <td>0.000000</td>\n",
       "      <td>14.420000</td>\n",
       "      <td>0.000000</td>\n",
       "      <td>0.000000</td>\n",
       "      <td>0.000000</td>\n",
       "      <td>0.000000</td>\n",
       "      <td>0.000000</td>\n",
       "      <td>0.000000</td>\n",
       "      <td>0.000000</td>\n",
       "      <td>...</td>\n",
       "      <td>0.000000</td>\n",
       "      <td>0.000000</td>\n",
       "      <td>0.000000</td>\n",
       "      <td>0.000000</td>\n",
       "      <td>0.000000</td>\n",
       "      <td>0.000000</td>\n",
       "      <td>0.000000</td>\n",
       "      <td>0.000000</td>\n",
       "      <td>0.000000</td>\n",
       "      <td>0.000000</td>\n",
       "    </tr>\n",
       "    <tr>\n",
       "      <th>25%</th>\n",
       "      <td>0.000000</td>\n",
       "      <td>0.000000</td>\n",
       "      <td>38.020000</td>\n",
       "      <td>1.000000</td>\n",
       "      <td>1.000000</td>\n",
       "      <td>0.000000</td>\n",
       "      <td>0.000000</td>\n",
       "      <td>0.000000</td>\n",
       "      <td>0.000000</td>\n",
       "      <td>0.000000</td>\n",
       "      <td>...</td>\n",
       "      <td>0.000000</td>\n",
       "      <td>0.000000</td>\n",
       "      <td>0.000000</td>\n",
       "      <td>0.000000</td>\n",
       "      <td>0.000000</td>\n",
       "      <td>0.000000</td>\n",
       "      <td>0.000000</td>\n",
       "      <td>0.000000</td>\n",
       "      <td>0.000000</td>\n",
       "      <td>0.000000</td>\n",
       "    </tr>\n",
       "    <tr>\n",
       "      <th>50%</th>\n",
       "      <td>0.000000</td>\n",
       "      <td>1.000000</td>\n",
       "      <td>51.550000</td>\n",
       "      <td>1.000000</td>\n",
       "      <td>2.000000</td>\n",
       "      <td>0.000000</td>\n",
       "      <td>0.000000</td>\n",
       "      <td>0.000000</td>\n",
       "      <td>0.000000</td>\n",
       "      <td>0.000000</td>\n",
       "      <td>...</td>\n",
       "      <td>0.000000</td>\n",
       "      <td>0.000000</td>\n",
       "      <td>0.000000</td>\n",
       "      <td>0.000000</td>\n",
       "      <td>0.000000</td>\n",
       "      <td>0.000000</td>\n",
       "      <td>0.000000</td>\n",
       "      <td>0.000000</td>\n",
       "      <td>0.000000</td>\n",
       "      <td>0.000000</td>\n",
       "    </tr>\n",
       "    <tr>\n",
       "      <th>75%</th>\n",
       "      <td>1.000000</td>\n",
       "      <td>1.000000</td>\n",
       "      <td>62.770000</td>\n",
       "      <td>1.000000</td>\n",
       "      <td>3.000000</td>\n",
       "      <td>1.000000</td>\n",
       "      <td>1.000000</td>\n",
       "      <td>1.000000</td>\n",
       "      <td>1.000000</td>\n",
       "      <td>0.000000</td>\n",
       "      <td>...</td>\n",
       "      <td>0.000000</td>\n",
       "      <td>0.000000</td>\n",
       "      <td>0.000000</td>\n",
       "      <td>0.000000</td>\n",
       "      <td>0.000000</td>\n",
       "      <td>0.000000</td>\n",
       "      <td>0.000000</td>\n",
       "      <td>0.000000</td>\n",
       "      <td>0.000000</td>\n",
       "      <td>0.000000</td>\n",
       "    </tr>\n",
       "    <tr>\n",
       "      <th>max</th>\n",
       "      <td>1.000000</td>\n",
       "      <td>1.000000</td>\n",
       "      <td>89.290000</td>\n",
       "      <td>4.000000</td>\n",
       "      <td>3.000000</td>\n",
       "      <td>2.000000</td>\n",
       "      <td>1.000000</td>\n",
       "      <td>1.000000</td>\n",
       "      <td>1.000000</td>\n",
       "      <td>1.000000</td>\n",
       "      <td>...</td>\n",
       "      <td>1.000000</td>\n",
       "      <td>1.000000</td>\n",
       "      <td>1.000000</td>\n",
       "      <td>1.000000</td>\n",
       "      <td>1.000000</td>\n",
       "      <td>1.000000</td>\n",
       "      <td>1.000000</td>\n",
       "      <td>1.000000</td>\n",
       "      <td>1.000000</td>\n",
       "      <td>1.000000</td>\n",
       "    </tr>\n",
       "  </tbody>\n",
       "</table>\n",
       "<p>8 rows × 26 columns</p>\n",
       "</div>"
      ],
      "text/plain": [
       "            Grade      Gender  Age_at_diagnosis        Race  Tumor_Type  \\\n",
       "count  857.000000  857.000000        857.000000  857.000000  857.000000   \n",
       "mean     0.420070    0.581097         50.924282    1.084014    1.845974   \n",
       "std      0.493858    0.493668         15.732749    0.398524    1.181867   \n",
       "min      0.000000    0.000000         14.420000    0.000000    0.000000   \n",
       "25%      0.000000    0.000000         38.020000    1.000000    1.000000   \n",
       "50%      0.000000    1.000000         51.550000    1.000000    2.000000   \n",
       "75%      1.000000    1.000000         62.770000    1.000000    3.000000   \n",
       "max      1.000000    1.000000         89.290000    4.000000    3.000000   \n",
       "\n",
       "       Tumor_Specification        IDH1        TP53        ATRX        PTEN  \\\n",
       "count           857.000000  857.000000  857.000000  857.000000  857.000000   \n",
       "mean              0.668611    0.480747    0.411902    0.255543    0.166861   \n",
       "std               0.835742    0.499921    0.492465    0.436420    0.373070   \n",
       "min               0.000000    0.000000    0.000000    0.000000    0.000000   \n",
       "25%               0.000000    0.000000    0.000000    0.000000    0.000000   \n",
       "50%               0.000000    0.000000    0.000000    0.000000    0.000000   \n",
       "75%               1.000000    1.000000    1.000000    1.000000    0.000000   \n",
       "max               2.000000    1.000000    1.000000    1.000000    1.000000   \n",
       "\n",
       "       ...       FUBP1         RB1      NOTCH1        BCOR       CSMD3  \\\n",
       "count  ...  857.000000  857.000000  857.000000  857.000000  857.000000   \n",
       "mean   ...    0.054842    0.047841    0.044341    0.033839    0.032672   \n",
       "std    ...    0.227805    0.213555    0.205971    0.180920    0.177881   \n",
       "min    ...    0.000000    0.000000    0.000000    0.000000    0.000000   \n",
       "25%    ...    0.000000    0.000000    0.000000    0.000000    0.000000   \n",
       "50%    ...    0.000000    0.000000    0.000000    0.000000    0.000000   \n",
       "75%    ...    0.000000    0.000000    0.000000    0.000000    0.000000   \n",
       "max    ...    1.000000    1.000000    1.000000    1.000000    1.000000   \n",
       "\n",
       "          SMARCA4      GRIN2A        IDH2        FAT4      PDGFRA  \n",
       "count  857.000000  857.000000  857.000000  857.000000  857.000000  \n",
       "mean     0.032672    0.031505    0.026838    0.026838    0.025671  \n",
       "std      0.177881    0.174781    0.161704    0.161704    0.158244  \n",
       "min      0.000000    0.000000    0.000000    0.000000    0.000000  \n",
       "25%      0.000000    0.000000    0.000000    0.000000    0.000000  \n",
       "50%      0.000000    0.000000    0.000000    0.000000    0.000000  \n",
       "75%      0.000000    0.000000    0.000000    0.000000    0.000000  \n",
       "max      1.000000    1.000000    1.000000    1.000000    1.000000  \n",
       "\n",
       "[8 rows x 26 columns]"
      ]
     },
     "execution_count": 4,
     "metadata": {},
     "output_type": "execute_result"
    }
   ],
   "source": [
    "data_df.describe()"
   ]
  },
  {
   "cell_type": "code",
   "execution_count": 27,
   "metadata": {},
   "outputs": [],
   "source": [
    "class SimplePipeline:\n",
    "    def __init__(self):\n",
    "        self.X = None\n",
    "        self.y = None\n",
    "        # Each value is None when we instantiate the class\n",
    "        self.X_train, self.X_test, self.y_train, self.Y_test = None, None, None, None\n",
    "        self.model = None\n",
    "        self.columns = None\n",
    "        self.load_dataset()\n",
    "    \n",
    "    def load_dataset(self):\n",
    "        \"\"\"Loading the dataset, and make the train, test, split.\"\"\"\n",
    "        dataset = pd.read_csv(r\"../../data/processed/TCGA_GBM_LGG_Mutations_clean.csv\") #change path when testing\n",
    "        \n",
    "        self.X=dataset.drop([\"Grade\",\"Tumor_Type\",\"IDH1\", \"TP53\", \"ATRX\"], axis=1)\n",
    "        self.y=dataset[\"Grade\"]\n",
    "        self.columns = self.X\n",
    "        self.X_train, self.X_test, self.y_train, self.y_test = train_test_split(\n",
    "            self.X, self.y, test_size=0.3, random_state=42)\n",
    "        \n",
    "    def train(self, algorithm=DecisionTreeClassifier):\n",
    "        \n",
    "        params_dt = {\"max_depth\": 5, \"criterion\": \"entropy\", \"random_state\": 42}\n",
    "        self.model = algorithm(**params_dt)\n",
    "        self.model.fit(self.X_train, self.y_train)\n",
    "        \n",
    "    def predict(self, input_data):\n",
    "        return self.model.predict(input_data)\n",
    "        \n",
    "    def get_accuracy(self):\n",
    "        return self.model.score(X=self.X_test, y=self.y_test)\n",
    "    \n",
    "    def run_pipeline(self):\n",
    "        \"\"\"Execution method for running the pipeline several times.\"\"\"\n",
    "        self.load_dataset()\n",
    "        self.train()"
   ]
  },
  {
   "cell_type": "code",
   "execution_count": 54,
   "metadata": {},
   "outputs": [],
   "source": [
    "class PipelineWithFeatureEngineering(SimplePipeline):\n",
    "    def __init__(self):\n",
    "        # Calling the inherit method SimplePipeline __init__ first.\n",
    "        super().__init__()\n",
    "        \n",
    "        # Standardizing the variables in the dataset.\n",
    "        self.scaler = StandardScaler()\n",
    "        # Training the pipeline\n",
    "        self.scaler.fit(self.X_train)\n",
    "    \n",
    "    def apply_scaler(self):\n",
    "        # Scaling training and testing data with mean 0 and variance 1.\n",
    "        self.X_train = self.scaler.transform(self.X_train)\n",
    "        self.X_test = self.scaler.transform(self.X_test)\n",
    "        \n",
    "    def predict(self, input_data):\n",
    "        # Applying the scaler before making the predictions.\n",
    "        scaled_input_data = self.scaler.transform(input_data)\n",
    "        return self.model.predict(scaled_input_data)\n",
    "                  \n",
    "    def run_pipeline(self):\n",
    "        self.load_dataset()\n",
    "        self.apply_scaler()\n",
    "        self.train()"
   ]
  },
  {
   "cell_type": "markdown",
   "metadata": {},
   "source": [
    "Run pipeline"
   ]
  },
  {
   "cell_type": "code",
   "execution_count": 22,
   "metadata": {},
   "outputs": [
    {
     "name": "stdout",
     "output_type": "stream",
     "text": [
      "The Accuracy of the model is: 0.9457364341085271\n"
     ]
    }
   ],
   "source": [
    "pipeline = SimplePipeline()\n",
    "pipeline.run_pipeline()\n",
    "accuracy_score = pipeline.get_accuracy()\n",
    "print(f'The Accuracy of the model is: {accuracy_score}')"
   ]
  },
  {
   "cell_type": "code",
   "execution_count": 51,
   "metadata": {},
   "outputs": [],
   "source": [
    "# Defining the schema\n",
    "tumor_schema = {\n",
    "    'Gender': {\n",
    "        'range': {\n",
    "            'min': 0.0,\n",
    "            'max': 1.0\n",
    "        },\n",
    "        'dtype': np.int64,\n",
    "    },\n",
    "    'Age_at_diagnosis': {\n",
    "        'range': {\n",
    "            'min': 14.0,\n",
    "            'max': 90.0\n",
    "        },\n",
    "        'dtype': float,\n",
    "    },\n",
    "    'Race': {\n",
    "        'range': {\n",
    "            'min': 0.0,\n",
    "            'max': 4.0\n",
    "        },\n",
    "        'dtype': np.int64,\n",
    "    },\n",
    "    'Tumor_Specification': {\n",
    "        'range': {\n",
    "            'min': 0.0,\n",
    "            'max': 2.0\n",
    "        },\n",
    "        'dtype': np.int64,\n",
    "    }\n",
    "}"
   ]
  },
  {
   "cell_type": "code",
   "execution_count": 40,
   "metadata": {},
   "outputs": [
    {
     "name": "stdout",
     "output_type": "stream",
     "text": [
      "1.0\n",
      "89.0\n",
      "2.0\n",
      "2.0\n"
     ]
    }
   ],
   "source": [
    "dataLabel=['Gender','Age_at_diagnosis','Race','Tumor_Specification']\n",
    "for column in dataLabel:\n",
    "    print(tumor_schema[column]['range']['max'])"
   ]
  },
  {
   "cell_type": "code",
   "execution_count": 28,
   "metadata": {},
   "outputs": [],
   "source": [
    "@pytest.fixture\n",
    "def pipeline():\n",
    "    pl = SimplePipeline()\n",
    "    pl.run_pipeline()\n",
    "    return pl"
   ]
  },
  {
   "cell_type": "code",
   "execution_count": 52,
   "metadata": {},
   "outputs": [
    {
     "name": "stdout",
     "output_type": "stream",
     "text": [
      "\u001b[32m.\u001b[0m\u001b[32m.\u001b[0m\u001b[32m                                                                                           [100%]\u001b[0m\n",
      "\u001b[32m\u001b[32m\u001b[1m2 passed\u001b[0m\u001b[32m in 0.02s\u001b[0m\u001b[0m\n"
     ]
    }
   ],
   "source": [
    "%%ipytest\n",
    "\n",
    "def test_input_data_ranges(pipeline):\n",
    "    # Getting the maximum and minimum values for each column\n",
    "    max_values = pipeline.X.max()\n",
    "    min_values = pipeline.X.min()\n",
    "    dataLabel=['Gender','Age_at_diagnosis','Race','Tumor_Specification']\n",
    "    # Ensuring that the maximum and minimum values fall into the expected range\n",
    "    for column in dataLabel:\n",
    "        assert max_values[column] <= tumor_schema[column]['range']['max']\n",
    "        assert min_values[column] >= tumor_schema[column]['range']['min']\n",
    "\n",
    "def test_input_data_types(pipeline):\n",
    "    # Getting the data types from each column\n",
    "    data_types = pipeline.X.dtypes\n",
    "    \n",
    "    # Testing compatibility between data types\n",
    "    for column in dataLabel:\n",
    "        assert data_types[column] == tumor_schema[column]['dtype']"
   ]
  },
  {
   "cell_type": "markdown",
   "metadata": {},
   "source": [
    "Model Quality testing"
   ]
  },
  {
   "cell_type": "code",
   "execution_count": 59,
   "metadata": {},
   "outputs": [],
   "source": [
    "@pytest.fixture\n",
    "def pipelines():\n",
    "    pipeline_v1 = SimplePipeline()\n",
    "    pipeline_v2 = PipelineWithFeatureEngineering()\n",
    "    pipeline_v1.run_pipeline()\n",
    "    pipeline_v2.run_pipeline()\n",
    "    return pipeline_v1, pipeline_v2"
   ]
  },
  {
   "cell_type": "code",
   "execution_count": 119,
   "metadata": {},
   "outputs": [
    {
     "name": "stdout",
     "output_type": "stream",
     "text": [
      "\u001b[32m.\u001b[0m\u001b[32m                                                                                            [100%]\u001b[0m\n",
      "\u001b[32m\u001b[32m\u001b[1m1 passed\u001b[0m\u001b[32m in 0.02s\u001b[0m\u001b[0m\n"
     ]
    }
   ],
   "source": [
    "%%ipytest\n",
    "\n",
    "def test_accuracy_higher_than_benchmark(pipelines):\n",
    "    pipeline_v1, _ = pipelines\n",
    "    \n",
    "    # Initial Benchmark\n",
    "    benchmark_predictions = [1.0] * len(pipeline_v1.y_test)\n",
    "    benchmark_accuracy = accuracy_score(y_true=pipeline_v1.y_test, y_pred=benchmark_predictions)\n",
    "    \n",
    "    # Getting the accuracy of the model\n",
    "    predictions = pipeline_v1.predict(pipeline_v1.X_test)\n",
    "    actual_accuracy = accuracy_score(y_true=pipeline_v1.y_test, y_pred=predictions)\n",
    "    \n",
    "    print(f'Accuracy of model 1: {actual_accuracy}, Accuracy of Benchmark: {benchmark_accuracy}')\n",
    "    \n",
    "    # Comparing the accuracy of the first model against the benchmark\n",
    "    assert actual_accuracy > benchmark_accuracy"
   ]
  },
  {
   "cell_type": "markdown",
   "metadata": {},
   "source": [
    "Testing Model Settings"
   ]
  },
  {
   "cell_type": "code",
   "execution_count": 120,
   "metadata": {},
   "outputs": [],
   "source": [
    "class PipelineWithConfig(SimplePipeline):\n",
    "    def __init__(self, config):\n",
    "        # Calling the inherit method SimplePipeline __init__ first.\n",
    "        super().__init__()\n",
    "        # We pass a config object that will be used in the training.\n",
    "        # This is known as Dependency Injection\n",
    "        self.config = config\n",
    "            \n",
    "    def train(self, algorithm=DecisionTreeClassifier):\n",
    "        self.model = algorithm(**self.config)\n",
    "        self.model.fit(self.X_train, self.y_train)"
   ]
  },
  {
   "cell_type": "code",
   "execution_count": 121,
   "metadata": {},
   "outputs": [],
   "source": [
    "@pytest.fixture\n",
    "def pipeline():\n",
    "    config = {\"max_depth\": 5, \"criterion\": \"entropy\", \"random_state\": 42}\n",
    "    pl = PipelineWithConfig(config=config)\n",
    "    pl.run_pipeline()\n",
    "    return pl"
   ]
  },
  {
   "cell_type": "code",
   "execution_count": 126,
   "metadata": {},
   "outputs": [
    {
     "name": "stdout",
     "output_type": "stream",
     "text": [
      "\u001b[32m.\u001b[0m\u001b[32m                                                                                            [100%]\u001b[0m\n",
      "\u001b[32m\u001b[32m\u001b[1m1 passed\u001b[0m\u001b[32m in 0.01s\u001b[0m\u001b[0m\n"
     ]
    }
   ],
   "source": [
    "%%ipytest\n",
    "\n",
    "\n",
    "Enabled_max_depth = {5}\n",
    "enabled_criterion = {\"entropy\"}\n",
    "enabled_random_state = {42}\n",
    "\n",
    "def test_pipeline_config(pipeline):\n",
    "    # Getting the config parameters for the model.\n",
    "    model_params = pipeline.model.get_params()\n",
    "\n",
    "    # Comparing\n",
    "    assert model_params['max_depth'] in Enabled_max_depth\n",
    "    assert model_params['criterion'] in enabled_criterion\n",
    "    assert model_params['random_state'] in enabled_random_state\n",
    "    \n",
    "    "
   ]
  }
 ],
 "metadata": {
  "kernelspec": {
   "display_name": "Python 3",
   "language": "python",
   "name": "python3"
  },
  "language_info": {
   "codemirror_mode": {
    "name": "ipython",
    "version": 3
   },
   "file_extension": ".py",
   "mimetype": "text/x-python",
   "name": "python",
   "nbconvert_exporter": "python",
   "pygments_lexer": "ipython3",
   "version": "3.11.5"
  }
 },
 "nbformat": 4,
 "nbformat_minor": 2
}
